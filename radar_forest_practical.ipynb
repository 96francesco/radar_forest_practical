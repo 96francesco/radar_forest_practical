{
  "nbformat": 4,
  "nbformat_minor": 0,
  "metadata": {
    "colab": {
      "provenance": []
    },
    "kernelspec": {
      "name": "python3",
      "display_name": "Python 3"
    },
    "language_info": {
      "name": "python"
    }
  },
  "cells": [
    {
      "cell_type": "markdown",
      "source": [
        "# Advanced Earth Observation - Radar Exercise\n",
        "\n",
        "---\n",
        "\n",
        "### \"Introduction to radar remote sensing for forest monitoring\"\n",
        "\n",
        "\n",
        "Johannes Reiche, Johannes Balling, Bart Slagter, Francesco Pasanisi\n",
        "\n",
        "---\n",
        "\n",
        "### **Learning goals**\n",
        "\n",
        "• Visualisation and RGB generation of SAR images.\n",
        "\n",
        "• Understanding basic SAR backscatter characteristics (HH and HV backscatter values and distributions) over forest land (forest, non-forest, water and inundated forest).\n",
        "\n",
        "• Understanding the special case of seasonally sub-canopy flooded (inundated) forest.\n",
        "\n",
        "• Linking the backscatter characteristics to particular scatter mechanism on the ground (surface, volume and double bounce scattering). Understanding interactions of the radar wave with objects on the ground (tree, water ...).\n",
        "\n",
        "---\n",
        "\n",
        "### **Literature**\n",
        "• Very useful overview of scatter mechanism over forest and water areas: Chapter “Interaction of SAR signal with water bodies” in Thenkabail (2016): Remote Sensing of Water Resources, Disasters, and Urban Studies. CRC Press. [Link: https://books.google.nl/books?id=Sne9CgAAQBAJ&pg=PA148&lpg=PA148&dq=Interaction+of+SAR+signal+with+water+bodies&source=bl&ots=ZKEgNiz87F&sig=RehZTUjv9Y4GjYxthBRS7x6EvtM&hl=nl&sa=X&ved=0ahUKEwi1v87mye3LAhUEIg8KHaK_BkcQ6AEIHDAA#v=onepage&q=Interaction%20of%20SAR%20signal%20with%20water%20bodies&f=false]\n",
        "\n",
        "• A useful study to learn about SAR backscatter characteristics and basic SAR change detection over tropical forest areas: (Ribbes et al. 1997) [Link: ftp://ftp.eorc.jaxa.jp/cdroms/EORC-036/pi/16floren.pdf]."
      ],
      "metadata": {
        "id": "lIA2jj_TL_b3"
      }
    },
    {
      "cell_type": "markdown",
      "source": [
        "# 1. Introduction\n"
      ],
      "metadata": {
        "id": "GwHAFugONyoU"
      }
    },
    {
      "cell_type": "markdown",
      "source": [
        "Run the cell below to import the packages needed for this exercise."
      ],
      "metadata": {
        "id": "ZrZMcEfzJphP"
      }
    },
    {
      "cell_type": "code",
      "execution_count": null,
      "metadata": {
        "id": "UibOImxF9IxH"
      },
      "outputs": [],
      "source": [
        "import ee\n",
        "import geemap\n",
        "import matplotlib.pyplot as plt"
      ]
    },
    {
      "cell_type": "markdown",
      "source": [
        "## 1.1 Study Area in Central Guyana"
      ],
      "metadata": {
        "id": "Xn7t3YLcN0W6"
      }
    },
    {
      "cell_type": "markdown",
      "source": [
        "The study area is located in Central Guyana (South America). Guyana is widely covered by tropical rain forest and is considered as one of the cloudiest countries in the world characterized by a very high mean annual cloud cover of > 80%. The study area extends approximately 20 x 15 km (5°20’ N; 58°59’ W) and is part of the main mining district: Mahdia. Around Mahdia, deforestation rates are high. The main driver of deforestation is small- and medium-scale alluvial open pit gold mining (Clifford 2011; Pöyry Management Consulting (NZ) Limited 2011) ([Figure 1](https://github.com/96francesco/radar_forest_practical/blob/main/images/fig1.png)). First the forest is removed, followed by gold mining activities with ‘land dredging’ being the commonly practiced mining method (Clifford 2011). Throughout the last decade, gold mining increased rapidly in Guyana and accounts for 46% of the total export earnings in 2011 (Guyana Bureau of Statistics 2012)."
      ],
      "metadata": {
        "id": "a2uF-ASdN2pU"
      }
    },
    {
      "cell_type": "markdown",
      "source": [
        "Adjacent to the rivers, seasonally sub-canopy flooded (inundated) forest areas are located. [Figure 2](https://github.com/96francesco/radar_forest_practical/blob/main/images/fig2.png) shows an example of such a forest at dry (non-flooded, left side) and wet season (flooded, right side). Inundated forest areas are in particular visible in HH backscatter images, where they show a higher value when compared to non-inundated forest areas.\n",
        "Central Guyana features two wet and two dry seasons. The first wet season with long lasting heavy showers swathes the months of December and January, whereas the next wet segment, with less intense but regular pours, encloses the months from May till mid-August."
      ],
      "metadata": {
        "id": "QzNmFKMeH84d"
      }
    },
    {
      "cell_type": "markdown",
      "source": [
        "## 1.2 ALOS PALSAR satellite data"
      ],
      "metadata": {
        "id": "yaTxzaemIJvR"
      }
    },
    {
      "cell_type": "markdown",
      "source": [
        "The Japanese ALOS (Advanced Land Observing Satellite) PALSAR (Phased Array L-band SAR) was operating between 2006 and 2011 and is the first SAR (Synthetic Aperture Radar) mission with global systematic acquisition strategy. The data stream is continued by ALOS-2 PALSAR-2 (since 2014). SAR penetrates through clouds and can operate day and night, both major advantages over optical satellite data when monitoring tropical forest. Because of its long wavelength (23.6 cm), PALSAR penetrates the forest canopy and backscattering is primarily caused by branches and trunks. Double-bounce scattering in particular, where the SAR signal fully penetrates the canopy and is scattered back by the ground and trunks, results in high L-band SAR backscatter. After deforestation, the L-band backscatter strongly decreases causing a larger contrast between forest and non-forest. ALOS PALSAR images are acquired in three basic image modes at medium spatial resolution (you can check it [here](https://github.com/96francesco/radar_forest_practical/blob/main/images/tab1.png)).\n",
        "\n",
        "Detailed information regarding the ALOS PALSAR and ALOS-2 PALSAR-2 sensors and its image modes are given in (Rosenqvist et al. 2007; Rosenqvist et al. 2014)."
      ],
      "metadata": {
        "id": "QwfDI669INnx"
      }
    },
    {
      "cell_type": "markdown",
      "source": [
        "## 1.3 Datasets"
      ],
      "metadata": {
        "id": "S6VIUPZIJK2Q"
      }
    },
    {
      "cell_type": "markdown",
      "source": [
        "### 1.3.1 ALOS PALSAR data"
      ],
      "metadata": {
        "id": "e1ws-BlJJNNY"
      }
    },
    {
      "cell_type": "markdown",
      "source": [
        "Two pre-processed ALOS PALSAR images for 2007 and 2010 acquired in Fine Beam Dual (FBD) mode (HH - horizontal transmit and horizontal receive polarisation; HV - horizontal transmit and vertical receive polarisation) are available. The images were acquired in ascending mode with an incidence angle of 34.3°. The data set covers Track/Frame 116/90. The ALOS PALSAR FBD images were pre-processed independently using the Gamma SAR pre-processing software package (Werner & Strozzi 2000). Pre-processing included multi-looking, radiometric calibration using standard calibration coefficients (Shimada et al. 2009), topographic normalization as described in (Hoekman et al. 2010) as well as geocoding to 25 m pixel resolution (WGS84, UTM 21N). The final backscatter images are provided in dB scale.\n",
        "\n",
        "• ALOS_PALSAR_20070906_HH_HV ([Figure 3](https://github.com/96francesco/radar_forest_practical/blob/main/images/fig3.png))\n",
        "\n",
        "• ALOS_PALSAR_20100730_HH_HV ([Figure 4](https://github.com/96francesco/radar_forest_practical/blob/main/images/fig4.png))"
      ],
      "metadata": {
        "id": "MvPBmA1SJQcR"
      }
    },
    {
      "cell_type": "markdown",
      "source": [
        "1.3.2 Landsat images"
      ],
      "metadata": {
        "id": "TrtJRpjOLLZX"
      }
    },
    {
      "cell_type": "markdown",
      "source": [
        "Two pre-processed Landsat TM images for 2005 and 2011 (Path: 231; Row: 056) are available as auxiliary information. The images are processed at 30 m pixel resolution. Both images are the most cloud-free images within a two year period. Due to the persistent cloud cover in Central Guyana, however, the 2011 image still contains clouds.\n",
        "\n",
        "• Landsat5_20051001\n",
        "\n",
        "• Landsat5_20110831"
      ],
      "metadata": {
        "id": "8oHo3lhcLOhF"
      }
    },
    {
      "cell_type": "markdown",
      "source": [
        "# 2. Visualisation and RGB geneation"
      ],
      "metadata": {
        "id": "_sbRdGKE_QAC"
      }
    },
    {
      "cell_type": "markdown",
      "source": [
        "## 2.2 Visualisation"
      ],
      "metadata": {
        "id": "sDyJah9h_Wqz"
      }
    },
    {
      "cell_type": "markdown",
      "source": [
        "Load the prior ingested ALOS PALSAR images in Google Earth Engine (GEE). First rename the band names into the respective polarization to assess them better later on and visualize the HH and HV backscatter via the code below."
      ],
      "metadata": {
        "id": "aFbVEQH3_562"
      }
    },
    {
      "cell_type": "code",
      "source": [
        "Map = geemap.Map()"
      ],
      "metadata": {
        "id": "Uo5yf0Kf9xNe"
      },
      "execution_count": null,
      "outputs": []
    },
    {
      "cell_type": "code",
      "source": [
        "# Load the ALOS Palsar images\n",
        "alos2010 = ee.Image('projects/radar-wur/education/aeo_radar1/data/alos_palsar_20100730_hh_hv')\n",
        "alos2007 = ee.Image('projects/radar-wur/education/aeo_radar1/data/alos_palsar_20070906_hh_hv')\n",
        "\n",
        "# Rename the band names from 'b1' and 'b2' to 'HH' and 'HV'\n",
        "alos2007 = alos2007.rename(['HH', 'HV'])\n",
        "alos2010 = alos2010.rename(['HH', 'HV'])\n",
        "\n",
        "# View HH, HV bands for 2007 ALOS PALSAR image\n",
        "Map = geemap.Map()\n",
        "Map.centerObject(alos2007, 12)  # zoom to desired location\n",
        "Map.addLayer(alos2007, {'bands': 'HH', 'min': -30, 'max': -3, 'gamma': 0.5}, 'ALOS 2007 HH')\n",
        "Map.addLayer(alos2007, {'bands': 'HV', 'min': -34, 'max': -3, 'gamma': 0.5}, 'ALOS 2007 HV')\n",
        "Map"
      ],
      "metadata": {
        "id": "caTM19uX9XxD"
      },
      "execution_count": null,
      "outputs": []
    },
    {
      "cell_type": "markdown",
      "source": [
        "Similarly to the images of 2007 adopt the code below to visualize the 2010 ALOS PALSAR image."
      ],
      "metadata": {
        "id": "sV3VC8AEAGqk"
      }
    },
    {
      "cell_type": "code",
      "source": [
        "# Adopt the lines above to visualize HH and HV polarization of the 2010 ALOS PALSAR image\n",
        "# Use the same min and max values!\n",
        "Map.addLayer(…)\n",
        "Map.addLayer(…)\n",
        "Map"
      ],
      "metadata": {
        "id": "narbimQu_CEJ"
      },
      "execution_count": null,
      "outputs": []
    },
    {
      "cell_type": "markdown",
      "source": [
        "To get a better idea of the study area, you may also load the Landsat image of 2005. To do so you can use the code below. You may also look at optical satellite image provided by Google Earth Engine, changing the the basemap using the GUI (check [here](https://courses.geemap.org/geemap_intro/04_using_basemaps/)): in the map pane, click on 'Layers' icon (the one besides the wrench icon) to minimize this menu, then click on 'Change basemaps' and select a satellite basemaps (check here), for Instance ESRI World Imagery."
      ],
      "metadata": {
        "id": "IX0H2tzIASg6"
      }
    },
    {
      "cell_type": "code",
      "source": [
        "# Load the Landsat images\n",
        "landsat2005 = ee.Image('projects/radar-wur/education/aeo_radar1/data/landsat5_20051001')\n",
        "landsat2011 = ee.Image('projects/radar-wur/education/aeo_radar1/data/landsat5_20110831')\n",
        "\n",
        "# Visualize RGB of the 2005 Landsat image\n",
        "Map.addLayer(landsat2005, {'bands': ['b3', 'b2', 'b1'],\n",
        "                           'min': [15, 21, 59],\n",
        "                           'max': [129, 110, 220],\n",
        "                           'gamma': [0.95, 1.3, 1]},\n",
        "            'RGB Landsat 2005')\n",
        "Map"
      ],
      "metadata": {
        "id": "nPU71YupAbmm"
      },
      "execution_count": null,
      "outputs": []
    },
    {
      "cell_type": "markdown",
      "source": [
        "The four main classes present in the study area are: forest (F), non-forest (NF), inundated forest (IF) and water (W). Here non-forest is predominantly open soil (abundant open pit mining areas).\n",
        "\n",
        "To get a first impression of the backscatter values for the different classes look at individual pixels (use the inspector, check [here](https://geemap.org/notebooks/126_inspector/)) over F, NF, IF and W ([Figure 5](https://github.com/96francesco/radar_forest_practical/blob/main/images/fig5.png)). Also flip between the 2007 and 2010 image to (i) see newly deforested areas as a result of mining activities between 2007 and 2010, and to (ii) see the varying (seasonally dependent) extent of the inundated forest areas adjacent to the main river. You can do this by selecting/deselecting the 2007/2010 images in the ‘Layers’ menu."
      ],
      "metadata": {
        "id": "QZ2inrY3CmaV"
      }
    },
    {
      "cell_type": "markdown",
      "source": [
        "Next extract the minimum and maximum backscatter values in HH- and HV-polarization of the 2010 image. You can use the code below to do so. The results will be printed below the code cell."
      ],
      "metadata": {
        "id": "LYnvzATiS9QY"
      }
    },
    {
      "cell_type": "code",
      "source": [
        "# function to extract the min and max value of the image\n",
        "reducers = ee.Reducer.min().combine(\n",
        "    reducer2=ee.Reducer.max(),\n",
        "    sharedInputs=True\n",
        ")\n",
        "\n",
        "# Apply function to the 2010 image\n",
        "stats_alos_2010 = alos2010.reduceRegion(\n",
        "    reducer=reducers,\n",
        "    geometry=alos2010.geometry()\n",
        ")\n",
        "\n",
        "# Print results\n",
        "print('Minimum and maximum ALOS 2010:', stats_alos_2010.getInfo())"
      ],
      "metadata": {
        "id": "E8xN3cVwClan"
      },
      "execution_count": null,
      "outputs": []
    },
    {
      "cell_type": "markdown",
      "source": [
        "Now look at the histogram of the backscatter values in HH- and HV-polarization of the 2010 image. You can use the code below to plot a histogram of both polarizations."
      ],
      "metadata": {
        "id": "59GLUAg9D7nN"
      }
    },
    {
      "cell_type": "code",
      "source": [
        "histogram = alos2010.reduceRegion(\n",
        "    reducer=ee.Reducer.histogram(),\n",
        "    geometry=alos2010.geometry(),\n",
        "    scale=25\n",
        ").getInfo()\n",
        "\n",
        "# extract histogram data\n",
        "hh_hist = histogram['HH']\n",
        "hv_hist = histogram['HV']\n",
        "\n",
        "# make plot\n",
        "plt.bar(hh_hist['bucketMeans'], hh_hist['histogram'], label='HH')\n",
        "plt.bar(hv_hist['bucketMeans'], hv_hist['histogram'], label='HV')\n",
        "plt.title('2010 ALOS PALSAR HH HV Backscatter Histogram')\n",
        "plt.xlabel('Backscatter in dB')\n",
        "plt.ylabel('Count')\n",
        "plt.legend()\n",
        "plt.show()"
      ],
      "metadata": {
        "id": "_l2Yf0GrEIXa"
      },
      "execution_count": null,
      "outputs": []
    },
    {
      "cell_type": "markdown",
      "source": [
        "**Question 1a**: What are the value ranges (min, max) of the 2010 HH and HV backscatter?\n",
        "\n",
        "**Question 1b**: Which distribution do you see in the histogram?\n",
        "\n",
        "**Question 1c**: Assign the four main classes (F, NF, IF and W) to the main modes (peaks)? Multiple classes can be assigned to the same mode (peak)."
      ],
      "metadata": {
        "id": "8c6PVXFYEIwA"
      }
    },
    {
      "cell_type": "markdown",
      "source": [
        "Now stretch the **2010 HH backscatter image** and observe the effect. To do that, go to the map pane and click on the 'Layers' icon, then click on the gear icon of the layer of interest. Change the 'Stretch' option and compare “Stretch: 100%”, “Stretch: 90%”, and “Stretch 1 σ” ([Figure 6](https://github.com/96francesco/radar_forest_practical/blob/main/images/fig6.png))."
      ],
      "metadata": {
        "id": "fZTpDZ-pFn-F"
      }
    },
    {
      "cell_type": "code",
      "source": [
        "Map"
      ],
      "metadata": {
        "id": "2CTqSyLuF6HW"
      },
      "execution_count": null,
      "outputs": []
    },
    {
      "cell_type": "markdown",
      "source": [
        "**Question 2**: Which is the most suitable stretch to visually separate forest (F) and inundated forest (IF)?"
      ],
      "metadata": {
        "id": "8WMUaj3wIKVJ"
      }
    },
    {
      "cell_type": "markdown",
      "source": [
        "## 2.2 Calculating \"HHHV backscatter ratio\" and RGB composite creation"
      ],
      "metadata": {
        "id": "_hxp_oTWIQUz"
      }
    },
    {
      "cell_type": "markdown",
      "source": [
        "To create a false colour RGB using a dual-polarised SAR image (two image layers only), the backscatter ratio is most commonly used as third image layer. In case of ALOS PALSAR FBD images, the “HHHV backscatter ratio” is calculated (Figure 7).\n",
        "In dB scale, the “HHHV backscatter ratio” is not calculated as a classical ratio (for example NDVI), but simply as HH backscatter - HV backscatter. (In linear scale, the “HHHV backscatter ratio” it is calculated as ratio: HH/HV). Use the code below to calculate the backscatter ratio."
      ],
      "metadata": {
        "id": "j_zuAofHIXSm"
      }
    },
    {
      "cell_type": "code",
      "source": [
        "# Calculate HH/HV ratio & rename the new layer so that we can easily identify it later on\n",
        "hhhv_ratio = alos2010.select('HH').subtract(alos2010.select('HV')).rename('HHHV_ratio')\n",
        "\n",
        "# Visualize the HH/HV ratio for the 2010 ALOS PALSAR image\n",
        "Map.addLayer(hhhv_ratio, {'min':0, 'max':15}, 'ALOS 2010 HH/HV ratio')\n",
        "Map"
      ],
      "metadata": {
        "id": "mjkEhgycInKj"
      },
      "execution_count": null,
      "outputs": []
    },
    {
      "cell_type": "markdown",
      "source": [
        "Next, stack the three image layer (HH backscatter, HV backscatter and HHHV backscatter ratio). After stacking you can visualise it as an RGB (Figure 8). Use the code below to do this."
      ],
      "metadata": {
        "id": "AZHSlqP3I10d"
      }
    },
    {
      "cell_type": "code",
      "source": [
        "# Add the ratio band to the 2010 image\n",
        "alos2010 = alos2010.addBands(hhhv_ratio)\n",
        "\n",
        "# Visualize the RGB of HH, HV, HH/HV bands for the 2010 ALOS PALSAR image\n",
        "Map.addLayer(alos2010, {'bands': ['HH', 'HV', 'HHHV_ratio'],\n",
        "                        'min': [-30, -35, 0],\n",
        "                        'max': [-5, -10, 10],\n",
        "                        'gamma': [0.5, 0.5, 0.5]},\n",
        "            'RGB ALOS 2010')\n",
        "Map"
      ],
      "metadata": {
        "id": "7T48JnktI5S3"
      },
      "execution_count": null,
      "outputs": []
    },
    {
      "cell_type": "markdown",
      "source": [
        "Observe the histogram of the “HHHV backscatter ratio”. You can use the code given below to plot the histogram of the 2010 HHHV backscatter ratio."
      ],
      "metadata": {
        "id": "0w743BseJIEZ"
      }
    },
    {
      "cell_type": "code",
      "source": [
        "histogram = hhhv_ratio.reduceRegion(\n",
        "    reducer=ee.Reducer.histogram(),\n",
        "    geometry=hhhv_ratio.geometry(),\n",
        "    scale=25\n",
        ").getInfo()\n",
        "\n",
        "# Extracting histogram data\n",
        "ratio_hist = histogram['HHHV_ratio']\n",
        "\n",
        "# Plotting\n",
        "plt.bar(ratio_hist['bucketMeans'], ratio_hist['histogram'], color='#cf513e')\n",
        "plt.title('2010 ALOS PALSAR HH/HV Ratio Histogram')\n",
        "plt.xlabel('Ratio')\n",
        "plt.ylabel('Count')\n",
        "plt.show()"
      ],
      "metadata": {
        "id": "TPTC0H5iJHaA"
      },
      "execution_count": null,
      "outputs": []
    },
    {
      "cell_type": "markdown",
      "source": [
        "**Question 3a**: Which distribution do you observe?\n",
        "\n",
        "**Question 3b**: Why did the distribution change, when compared to HH and HV? Explain. Hint: Mind how the “HHHV backscatter ratio” is calculated."
      ],
      "metadata": {
        "id": "dVHInYfVJNbb"
      }
    },
    {
      "cell_type": "markdown",
      "source": [
        "# 3. Analysing and describing class specific backscatter characteristics"
      ],
      "metadata": {
        "id": "iDrnsEHGJmYP"
      }
    },
    {
      "cell_type": "markdown",
      "source": [
        "Analysing and describing the SAR backscatter is fundamental to build the link between the observed SAR backscatter values and the objects on the ground (trees, river ...). This will assist to answer the following type of questions: How did the differently polarised radar (HH vs. HV) waves interact with the objects on the ground to result in the observed HH and HV backscatter values? Which scatter mechanisms (surface, volume and/or double bounce scattering) did cause for example high HV values over forest?\n",
        "First, the backscatter characteristics of the four main classes are to be analysed and described: forest (F), non-forest (NF), inundated forest (IF) and water (W). This is to be done individually for HH, HV and “HHHV backscatter ratio”.\n",
        "\n",
        "To describe a class specific backscatter characteristic, homogeneous areas representing the class need to be selected. Based on these areas the class distribution can be described. Mean value, standard deviation, minimum and maximum values per class can be plotted separately for HH, HV and “ HHHV backscatter ratio”.\n",
        "\n",
        "Use only the 2010 ALOS PALSAR image for the remaining data analysis!\n",
        "1: Create a new geometry, 2: access its properties and 3: change its name to the desired class and save it by pressing Apply. 4: Draw the geometryies over homogeneous areas representing the desired land cover class. As example, [Figure 9](https://github.com/96francesco/radar_forest_practical/blob/main/images/fig9.png) shows selected areas for the class forest (F). Check this tutorial to understand how to use drawing tools in GEE."
      ],
      "metadata": {
        "id": "SR2HHZtGJqUt"
      }
    },
    {
      "cell_type": "code",
      "source": [
        "Map"
      ],
      "metadata": {
        "id": "qNv2CyrFWgPe"
      },
      "execution_count": null,
      "outputs": []
    },
    {
      "cell_type": "markdown",
      "source": [
        "Run the code below to create objects based on the geometries you drew.\n",
        "Mind that you should use the indeces based on which order you drew the different land cover classes (e.g., if the first was the forest class, then use index 0 for it)."
      ],
      "metadata": {
        "id": "pLcDgilLWD9x"
      }
    },
    {
      "cell_type": "code",
      "source": [
        "# reaad all the drawn features on the map\n",
        "drawn_features = Map.draw_features\n",
        "\n",
        "# manually separate features based on drawing order\n",
        "forest = drawn_features[...]\n",
        "water = drawn_features[...]\n",
        "non_forest = drawn_features[...]\n",
        "inundated_forest = drawn_features[...]"
      ],
      "metadata": {
        "id": "AxDGHDgXXroa"
      },
      "execution_count": null,
      "outputs": []
    },
    {
      "cell_type": "markdown",
      "source": [
        "With the code below we get the min, max, mean and standard deviation values for HH- and HV- Polarization and the HHHV ratio for the selected land cover class. In the code cell below, these statistics for the forest class are computed. Calculate them also for the other three classes."
      ],
      "metadata": {
        "id": "05R78eCLXV2U"
      }
    },
    {
      "cell_type": "code",
      "source": [
        "def get_min_max_mean_std(img, aoi):\n",
        "    minmax_dic = img.reduceRegion(\n",
        "        reducer=ee.Reducer.min().combine(ee.Reducer.max(), None, True)\n",
        "                .combine(ee.Reducer.mean(), None, True)\n",
        "                .combine(ee.Reducer.stdDev(), None, True),\n",
        "        geometry=aoi.geometry(),\n",
        "        scale=25,\n",
        "        maxPixels=1e13\n",
        "    )\n",
        "    return minmax_dic\n",
        "\n",
        "# CaLculate statistics for HH polarisation for the forest class\n",
        "hh_forest_stat = get_min_max_mean_std(alos2010.select('HH'), forest).getInfo()\n",
        "print('HH for forest class: ', hh_forest_stat)\n",
        "\n",
        "# CaLculate statistics for HV polarisation for the forest class\n",
        "hv_forest_stat = get_min_max_mean_std(alos2010.select('HV'), forest).getInfo()\n",
        "print('HV for forest class: ', hv_forest_stat)\n",
        "\n",
        "# CaLculate statistics for HHHV ratio for the forest class\n",
        "hhhv_forest_stat = get_min_max_mean_std(alos2010.select('HHHV_ratio'), forest).getInfo()\n",
        "print('HHHV ratio for forest class: ', hhhv_forest_stat)"
      ],
      "metadata": {
        "id": "yeJNWcw8Jp86"
      },
      "execution_count": null,
      "outputs": []
    },
    {
      "cell_type": "markdown",
      "source": [
        "Save the values in Excel or R to use them later to create boxplots.\n",
        "Next you want to do the same for the land cover classes Non-forest, Inundated forest and Water.\n",
        "\n",
        "Use and adjust the code above to the desired land cover class. Below there is an example provided for getting the values for HH-polarization for the Non-forest class."
      ],
      "metadata": {
        "id": "DwPxE-i2cApZ"
      }
    },
    {
      "cell_type": "code",
      "source": [
        "# Calculate statistics for HH polarization for the non-forest class\n",
        "hh_nonforest_stat = get_min_max_mean_std(alos2010.select('HH'), non_forest).getInfo()\n",
        "print('HH for non-forest class: ', hh_nonforest_stat)"
      ],
      "metadata": {
        "id": "7QMvsQincL_Y"
      },
      "execution_count": null,
      "outputs": []
    },
    {
      "cell_type": "markdown",
      "source": [
        "Next, plot the mean, standard deviation, minimum and maximum values of the four classes separately for HH, HV and “HHHV backscatter ratio”. You can use your preferred software (Excel, R ...) for plotting. “R-code” is provided below."
      ],
      "metadata": {
        "id": "QD3z_A0ZcqpZ"
      }
    },
    {
      "cell_type": "markdown",
      "source": [
        "```r\n",
        "## load ggplot2 package\n",
        "require(ggplot2)\n",
        "\n",
        "## create data frame with class names, mean values per class, and standard deviation per class\n",
        "foo <- data.frame(class <- c(\"F\",\"NF\",\"IF\",\"W\"),\n",
        "mean <- c(-5,-5,-5,-5),\n",
        "sd <- c(1,1,1,1))\n",
        "min <- c(-20,-20,-20,-20),\n",
        "max <- c(-2,-2,-2,-2))\n",
        "\n",
        "#plot using ggplot2\n",
        "ggplot(foo, aes(x=class, y=mean)) +\n",
        "geom_errorbar(aes(ymin=mean-sd, ymax=mean+sd), width=.2) +\n",
        "geom_point(aes(x=class, y=min),shape=4) +\n",
        "geom_point(aes(x=class, y=max),shape=4) +\n",
        "geom_line() +\n",
        "geom_point() +\n",
        "theme(text = element_text(size=16)) +\n",
        "ggtitle(\"HH Polarisation [dB]\")\n",
        "```"
      ],
      "metadata": {
        "id": "6N84cbIZbFlW"
      }
    },
    {
      "cell_type": "markdown",
      "source": [
        "**Question 4**: Print the plots! Based on the plots, which polarisation (HV or HH) is more suitable to separate the following classes? Briefly explain your choice.\n",
        "(a) W from F\n",
        "(b) NF from F\n",
        "(c) IF from F?\n",
        "\n",
        "**Question 5**: You should observe a standard deviation for water (~ 0.6 dB for HH) that is significantly lower than what you observed for the remaining classes (> 0.8 dB for HH). Provide an explanation.\n",
        "\n",
        "**Question 6**: Which of the land cover classes (W, F, IF, NF) are more difficult/impossible to classify/separate, using optical Landsat imagery? Briefly explain.\n",
        "\n",
        "**Extra question I**: Calculate the Jeffries-Matusita distance (JMD) – a measure for pair-wise class separability.\n",
        "(i) Explain the data range of JMD. What do high and low JMD values mean?\n",
        "(ii) For HH and HV explain what the observed JMD values mean for the class separability of (a) W from F, (b) NF from F and (c) IF from F.\n",
        "\n",
        "*JMD calculation*:\n",
        "Use the geometries that you previously calculated and the code given below. Note: Make sure that the geometries are called as follows: forest, non_forest, inundated_forest and water. If not the code won’t work. Calculate the JMD for each band separately, you can do this by adjusting the variable bands in the code below (e.g. var bands = ['HH'], would calculate the JMD only for the HH-polarization)."
      ],
      "metadata": {
        "id": "5g7urJ5scvcl"
      }
    },
    {
      "cell_type": "code",
      "source": [
        "forest = forest.set('landcover', 1)\n",
        "non_forest = non_forest.set('landcover', 2)\n",
        "inundated_forest = inundated_forest.set('landcover', 3)\n",
        "water = water.set('landcover', 4)\n",
        "\n",
        "# Create a FeatureCollection from these features\n",
        "classes = ee.FeatureCollection([forest, non_forest, inundated_forest, water])\n",
        "\n",
        "# ADJUST!!! Select the bands from which the signatures will be extracted for each class\n",
        "# bands = ['HH', 'HV', 'HHHV_ratio']\n",
        "bands = ['HH']\n",
        "\n",
        "# Extract the signatures of selected bands for each landcover class\n",
        "training = alos2010.select(bands).sampleRegions(\n",
        "    collection=classes,\n",
        "    properties=['landcover'],\n",
        "    scale=25\n",
        ")"
      ],
      "metadata": {
        "id": "0365der-c_Kx"
      },
      "execution_count": null,
      "outputs": []
    },
    {
      "cell_type": "markdown",
      "source": [
        "The code above will only extract the values of the selected bands. In order to actually calculate the JMD use the code below. The JMD results will be plotted as a list in the console. Here the value 0 refers to forest, 1 to Non-Forest, 2 to Inundated Forest, and 3 to Water. Each main element shows the separability of the respective class with the other land cover classes (e.g. if you click 0 you will see the separability of Forest with 0 – Forest, 1 – Non-Forest, 2- Inundated Forest, 3 - Water).\n",
        "\n",
        "Note: if the Jeffries-Matusita distance returns an error, or a NaN try reshape the geometry or enlarge the size of the geometry."
      ],
      "metadata": {
        "id": "MQsrqS5I6adQ"
      }
    },
    {
      "cell_type": "code",
      "source": [
        "# Turn the selected bands into vectors\n",
        "def add_vector(f):\n",
        "    return f.set('vec', f.toDictionary(bands).values(bands))\n",
        "\n",
        "training = training.map(add_vector)\n",
        "\n",
        "# Make a list of objects where each object corresponds to a class\n",
        "lists = ee.List(training.reduceColumns(\n",
        "    reducer=ee.Reducer.toList().group(0, 'class'),\n",
        "    selectors=['landcover', 'vec']\n",
        ").get('groups'))\n",
        "\n",
        "# Map over the lists to compute means and covariances\n",
        "def compute_means_and_covariances(obj):\n",
        "    array = ee.Array(ee.Dictionary(obj).get('list'))\n",
        "    list_ = ee.List(ee.Dictionary(obj).get('list')).map(lambda l: ee.Array(l))\n",
        "    mean = array.reduce(ee.Reducer.mean(), [0])\n",
        "    covariance = list_.reduce(ee.Reducer.covariance())\n",
        "    return ee.Dictionary(obj).combine({\n",
        "        'mean': mean.transpose(),\n",
        "        'covariance': covariance\n",
        "    })\n",
        "\n",
        "lists = lists.map(compute_means_and_covariances)\n",
        "\n",
        "# Calculate Bhattacharyya distance\n",
        "classes = ee.List.sequence(0, 3)\n",
        "\n",
        "def bhattacharyya_distance(i):\n",
        "    def inner_bhattacharyya_distance(j):\n",
        "        mean_i = ee.Array(ee.Dictionary(lists.get(i)).get('mean'))\n",
        "        mean_j = ee.Array(ee.Dictionary(lists.get(j)).get('mean'))\n",
        "        sigma_i = ee.Array(ee.Dictionary(lists.get(i)).get('covariance'))\n",
        "        sigma_j = ee.Array(ee.Dictionary(lists.get(j)).get('covariance'))\n",
        "        mh = mean_i.subtract(mean_j).transpose() \\\n",
        "            .matrixMultiply(sigma_i.add(sigma_j).divide(2).matrixInverse()) \\\n",
        "            .matrixMultiply(mean_i.subtract(mean_j)) \\\n",
        "            .get([0, 0]) \\\n",
        "            .sqrt()\n",
        "        t2 = sigma_i.add(sigma_j).divide(2).matrixDeterminant() \\\n",
        "            .divide(sigma_i.matrixDeterminant().sqrt()) \\\n",
        "            .divide(sigma_j.matrixDeterminant().sqrt()) \\\n",
        "            .log() \\\n",
        "            .divide(2)\n",
        "        return mh.divide(8).add(t2)\n",
        "    return classes.map(inner_bhattacharyya_distance)\n",
        "\n",
        "bhattacharyya = classes.map(bhattacharyya_distance)\n",
        "\n",
        "# Calculate Jeffries-Matusita distance (JMD)\n",
        "jm = ee.Array(bhattacharyya).multiply(-1).exp().multiply(-1).add(1).multiply(2).sqrt()\n",
        "\n",
        "# Print Jeffries-Matusita distance\n",
        "jm.getInfo()"
      ],
      "metadata": {
        "id": "H5SOiaZB7A8G"
      },
      "execution_count": null,
      "outputs": []
    },
    {
      "cell_type": "markdown",
      "source": [
        "# 3. Class specific scatter mechanism"
      ],
      "metadata": {
        "id": "GE0rer-F7JU2"
      }
    },
    {
      "cell_type": "markdown",
      "source": [
        "After gaining understanding of the class specific backscatter characteristics for F, NF, IF and W, it’s time to link them to the three main scatter mechanisms on the ground: volume scattering, surface scattering and double bounce scattering.\n",
        "\n",
        "**Question 7**: Which scatter mechanism(s) cause the high HV backscatter over forest (F) when compared to non-forest (NF) areas? Briefly explain the mechanism(s).\n",
        "\n",
        "**Question 8**: What causes the increase in HH backscatter over inundated forest areas when compared to non-inundated (non-flooded) forest? It’s helpful to make a sketch including the side-looking radar. Hint: Both surface roughness and scatter mechanism play a crucial role.\n",
        "\n",
        "**Question 9**: Why does water (W) appear black in the RGB? What happens to the radar wave when interacting with a flat (non-rough) water surface? It’s helpful to make a sketch including the side-looking radar.\n",
        "\n",
        "**Extra question II**: The analysis was done using L-band SAR images acquired by ALSO PALSAR (23.6 cm wavelength). How would the separability of forest and non-forest change for a C-band SAR image (e.g. Sentinel-1) considering its shorter wavelength (5.3 cm wavelength). Do you expect the separability to be better or worse? Explain!"
      ],
      "metadata": {
        "id": "VZjTjKga7N7t"
      }
    }
  ]
}